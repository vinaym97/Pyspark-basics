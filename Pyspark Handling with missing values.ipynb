{
 "cells": [
  {
   "cell_type": "code",
   "execution_count": 1,
   "metadata": {},
   "outputs": [],
   "source": [
    "import pandas as pd"
   ]
  },
  {
   "cell_type": "code",
   "execution_count": 2,
   "metadata": {},
   "outputs": [],
   "source": [
    "from pyspark.sql import SparkSession"
   ]
  },
  {
   "cell_type": "code",
   "execution_count": 3,
   "metadata": {},
   "outputs": [],
   "source": [
    "spark=SparkSession.builder.appName('Dataframe').getOrCreate()"
   ]
  },
  {
   "cell_type": "code",
   "execution_count": 4,
   "metadata": {},
   "outputs": [
    {
     "data": {
      "text/html": [
       "\n",
       "            <div>\n",
       "                <p><b>SparkSession - in-memory</b></p>\n",
       "                \n",
       "        <div>\n",
       "            <p><b>SparkContext</b></p>\n",
       "\n",
       "            <p><a href=\"http://LAPTOP-TLJTR349:4040\">Spark UI</a></p>\n",
       "\n",
       "            <dl>\n",
       "              <dt>Version</dt>\n",
       "                <dd><code>v3.1.1</code></dd>\n",
       "              <dt>Master</dt>\n",
       "                <dd><code>local[*]</code></dd>\n",
       "              <dt>AppName</dt>\n",
       "                <dd><code>Dataframe</code></dd>\n",
       "            </dl>\n",
       "        </div>\n",
       "        \n",
       "            </div>\n",
       "        "
      ],
      "text/plain": [
       "<pyspark.sql.session.SparkSession at 0x24a15161b20>"
      ]
     },
     "execution_count": 4,
     "metadata": {},
     "output_type": "execute_result"
    }
   ],
   "source": [
    "spark"
   ]
  },
  {
   "cell_type": "markdown",
   "metadata": {},
   "source": [
    "Showing Age as a string so we are adding inferSchema"
   ]
  },
  {
   "cell_type": "code",
   "execution_count": 14,
   "metadata": {},
   "outputs": [],
   "source": [
    "df_pyspark=spark.read.csv('aa.csv',header=True,inferSchema=True)"
   ]
  },
  {
   "cell_type": "code",
   "execution_count": 15,
   "metadata": {},
   "outputs": [
    {
     "name": "stdout",
     "output_type": "stream",
     "text": [
      "root\n",
      " |-- Name: string (nullable = true)\n",
      " |-- Age: integer (nullable = true)\n",
      " |-- Experience: integer (nullable = true)\n",
      " |-- Salary: integer (nullable = true)\n",
      "\n"
     ]
    }
   ],
   "source": [
    "df_pyspark.printSchema()"
   ]
  },
  {
   "cell_type": "code",
   "execution_count": 16,
   "metadata": {},
   "outputs": [
    {
     "name": "stdout",
     "output_type": "stream",
     "text": [
      "+-------+----+----------+------+\n",
      "|   Name| Age|Experience|Salary|\n",
      "+-------+----+----------+------+\n",
      "|  dfsds|  23|         3| 35000|\n",
      "|   dsfe|  30|         4| 40000|\n",
      "|   fsff|null|         1| 25000|\n",
      "|    fvf|  27|         3|  null|\n",
      "|cvcvvdv|null|      null|400000|\n",
      "|  ssddd|null|         6| 30000|\n",
      "+-------+----+----------+------+\n",
      "\n"
     ]
    }
   ],
   "source": [
    "df_pyspark.show()"
   ]
  },
  {
   "cell_type": "code",
   "execution_count": 17,
   "metadata": {},
   "outputs": [
    {
     "name": "stdout",
     "output_type": "stream",
     "text": [
      "+----+----------+------+\n",
      "| Age|Experience|Salary|\n",
      "+----+----------+------+\n",
      "|  23|         3| 35000|\n",
      "|  30|         4| 40000|\n",
      "|null|         1| 25000|\n",
      "|  27|         3|  null|\n",
      "|null|      null|400000|\n",
      "|null|         6| 30000|\n",
      "+----+----------+------+\n",
      "\n"
     ]
    }
   ],
   "source": [
    "#drop columns\n",
    "df_pyspark.drop('Name').show()"
   ]
  },
  {
   "cell_type": "code",
   "execution_count": 19,
   "metadata": {},
   "outputs": [
    {
     "name": "stdout",
     "output_type": "stream",
     "text": [
      "+-----+---+----------+------+\n",
      "| Name|Age|Experience|Salary|\n",
      "+-----+---+----------+------+\n",
      "|dfsds| 23|         3| 35000|\n",
      "| dsfe| 30|         4| 40000|\n",
      "+-----+---+----------+------+\n",
      "\n"
     ]
    }
   ],
   "source": [
    "#drop all row null values presented\n",
    "df_pyspark.na.drop().show()"
   ]
  },
  {
   "cell_type": "code",
   "execution_count": 23,
   "metadata": {},
   "outputs": [
    {
     "name": "stdout",
     "output_type": "stream",
     "text": [
      "+-------+----+----------+------+\n",
      "|   Name| Age|Experience|Salary|\n",
      "+-------+----+----------+------+\n",
      "|  dfsds|  23|         3| 35000|\n",
      "|   dsfe|  30|         4| 40000|\n",
      "|   fsff|null|         1| 25000|\n",
      "|    fvf|  27|         3|  null|\n",
      "|cvcvvdv|null|      null|400000|\n",
      "|  ssddd|null|         6| 30000|\n",
      "+-------+----+----------+------+\n",
      "\n"
     ]
    }
   ],
   "source": [
    "#Any==how, any executes entire row if contains any null values(by default it is any)\n",
    "#'all' executes the columns contain null entire column.\n",
    "df_pyspark.na.drop(how=\"all\").show()"
   ]
  },
  {
   "cell_type": "code",
   "execution_count": 30,
   "metadata": {},
   "outputs": [
    {
     "name": "stdout",
     "output_type": "stream",
     "text": [
      "+-------+----+----------+------+\n",
      "|   Name| Age|Experience|Salary|\n",
      "+-------+----+----------+------+\n",
      "|  dfsds|  23|         3| 35000|\n",
      "|   dsfe|  30|         4| 40000|\n",
      "|   fsff|null|         1| 25000|\n",
      "|    fvf|  27|         3|  null|\n",
      "|cvcvvdv|null|      null|400000|\n",
      "|  ssddd|null|         6| 30000|\n",
      "+-------+----+----------+------+\n",
      "\n"
     ]
    }
   ],
   "source": [
    "#Threshold(it keeps at least 2 non-null values are present otherwise that rows will deleted, \n",
    "#thresh can be any value)\n",
    "df_pyspark.na.drop(how='any',thresh=2).show()"
   ]
  },
  {
   "cell_type": "code",
   "execution_count": 32,
   "metadata": {},
   "outputs": [
    {
     "name": "stdout",
     "output_type": "stream",
     "text": [
      "+-----+----+----------+------+\n",
      "| Name| Age|Experience|Salary|\n",
      "+-----+----+----------+------+\n",
      "|dfsds|  23|         3| 35000|\n",
      "| dsfe|  30|         4| 40000|\n",
      "| fsff|null|         1| 25000|\n",
      "|  fvf|  27|         3|  null|\n",
      "|ssddd|null|         6| 30000|\n",
      "+-----+----+----------+------+\n",
      "\n"
     ]
    }
   ],
   "source": [
    "#subset--all record will deleted if there are any null values in the specified column\n",
    "df_pyspark.na.drop(how=\"any\",subset=[\"Experience\"]).show()"
   ]
  },
  {
   "cell_type": "code",
   "execution_count": 42,
   "metadata": {},
   "outputs": [
    {
     "name": "stdout",
     "output_type": "stream",
     "text": [
      "+-------+---+----------+------+\n",
      "|   Name|Age|Experience|Salary|\n",
      "+-------+---+----------+------+\n",
      "|  dfsds| 23|         3| 35000|\n",
      "|   dsfe| 30|         4| 40000|\n",
      "|   fsff|  3|         1| 25000|\n",
      "|    fvf| 27|         3|  null|\n",
      "|cvcvvdv|  3|         3|400000|\n",
      "|  ssddd|  3|         6| 30000|\n",
      "+-------+---+----------+------+\n",
      "\n"
     ]
    }
   ],
   "source": [
    "#filling the Missing value\n",
    "df_pyspark.na.fill(3,['Experience','Age']).show()"
   ]
  },
  {
   "cell_type": "code",
   "execution_count": 45,
   "metadata": {},
   "outputs": [],
   "source": [
    "from pyspark.ml.feature import Imputer\n",
    "imputer= Imputer(\n",
    "    inputCols=['Age','Experience','Salary'], \n",
    "    outputCols=[\"{}_imputed]\".format(c) for c in ['Age','Experience','Salary']]\n",
    "    ).setStrategy(\"mean\")"
   ]
  },
  {
   "cell_type": "code",
   "execution_count": 46,
   "metadata": {},
   "outputs": [
    {
     "name": "stdout",
     "output_type": "stream",
     "text": [
      "+-------+----+----------+------+------------+-------------------+---------------+\n",
      "|   Name| Age|Experience|Salary|Age_imputed]|Experience_imputed]|Salary_imputed]|\n",
      "+-------+----+----------+------+------------+-------------------+---------------+\n",
      "|  dfsds|  23|         3| 35000|          23|                  3|          35000|\n",
      "|   dsfe|  30|         4| 40000|          30|                  4|          40000|\n",
      "|   fsff|null|         1| 25000|          26|                  1|          25000|\n",
      "|    fvf|  27|         3|  null|          27|                  3|         106000|\n",
      "|cvcvvdv|null|      null|400000|          26|                  3|         400000|\n",
      "|  ssddd|null|         6| 30000|          26|                  6|          30000|\n",
      "+-------+----+----------+------+------------+-------------------+---------------+\n",
      "\n"
     ]
    }
   ],
   "source": [
    "imputer.fit(df_pyspark).transform(df_pyspark).show()"
   ]
  },
  {
   "cell_type": "code",
   "execution_count": null,
   "metadata": {},
   "outputs": [],
   "source": []
  }
 ],
 "metadata": {
  "kernelspec": {
   "display_name": "Python 3",
   "language": "python",
   "name": "python3"
  },
  "language_info": {
   "codemirror_mode": {
    "name": "ipython",
    "version": 3
   },
   "file_extension": ".py",
   "mimetype": "text/x-python",
   "name": "python",
   "nbconvert_exporter": "python",
   "pygments_lexer": "ipython3",
   "version": "3.8.3"
  }
 },
 "nbformat": 4,
 "nbformat_minor": 4
}
